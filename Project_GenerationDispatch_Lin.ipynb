{
 "cells": [
  {
   "cell_type": "code",
   "execution_count": 1,
   "metadata": {
    "id": "-FlQlSZ71jne"
   },
   "outputs": [],
   "source": [
    "import pandas as pd\n",
    "import numpy as np\n",
    "import matplotlib.pyplot as plt\n",
    "import warnings\n",
    "warnings.filterwarnings(\"ignore\")"
   ]
  },
  {
   "cell_type": "markdown",
   "metadata": {
    "id": "U1trkmSAtP6o"
   },
   "source": [
    "#Loading Data"
   ]
  },
  {
   "cell_type": "code",
   "execution_count": 7,
   "metadata": {
    "colab": {
     "base_uri": "https://localhost:8080/",
     "height": 640
    },
    "id": "ScZEeAQK1jnj",
    "outputId": "268ed7c2-523e-4403-c25f-1c3bffd21d12"
   },
   "outputs": [
    {
     "data": {
      "text/html": [
       "<div>\n",
       "<style scoped>\n",
       "    .dataframe tbody tr th:only-of-type {\n",
       "        vertical-align: middle;\n",
       "    }\n",
       "\n",
       "    .dataframe tbody tr th {\n",
       "        vertical-align: top;\n",
       "    }\n",
       "\n",
       "    .dataframe thead th {\n",
       "        text-align: right;\n",
       "    }\n",
       "</style>\n",
       "<table border=\"1\" class=\"dataframe\">\n",
       "  <thead>\n",
       "    <tr style=\"text-align: right;\">\n",
       "      <th></th>\n",
       "      <th>HE1</th>\n",
       "      <th>HE2</th>\n",
       "      <th>HE3</th>\n",
       "      <th>HE4</th>\n",
       "      <th>HE5</th>\n",
       "      <th>HE6</th>\n",
       "      <th>HE7</th>\n",
       "      <th>HE8</th>\n",
       "      <th>HE9</th>\n",
       "      <th>HE10</th>\n",
       "      <th>HE11</th>\n",
       "      <th>HE12</th>\n",
       "      <th>HE13</th>\n",
       "      <th>HE14</th>\n",
       "      <th>HE15</th>\n",
       "      <th>HE16</th>\n",
       "      <th>HE17</th>\n",
       "      <th>HE18</th>\n",
       "      <th>HE19</th>\n",
       "      <th>HE20</th>\n",
       "      <th>HE21</th>\n",
       "      <th>HE22</th>\n",
       "      <th>HE23</th>\n",
       "      <th>HE24</th>\n",
       "    </tr>\n",
       "    <tr>\n",
       "      <th>Date</th>\n",
       "      <th></th>\n",
       "      <th></th>\n",
       "      <th></th>\n",
       "      <th></th>\n",
       "      <th></th>\n",
       "      <th></th>\n",
       "      <th></th>\n",
       "      <th></th>\n",
       "      <th></th>\n",
       "      <th></th>\n",
       "      <th></th>\n",
       "      <th></th>\n",
       "      <th></th>\n",
       "      <th></th>\n",
       "      <th></th>\n",
       "      <th></th>\n",
       "      <th></th>\n",
       "      <th></th>\n",
       "      <th></th>\n",
       "      <th></th>\n",
       "      <th></th>\n",
       "      <th></th>\n",
       "      <th></th>\n",
       "      <th></th>\n",
       "    </tr>\n",
       "  </thead>\n",
       "  <tbody>\n",
       "    <tr>\n",
       "      <th>2011-06-01</th>\n",
       "      <td>38.000000</td>\n",
       "      <td>39.355392</td>\n",
       "      <td>34.626365</td>\n",
       "      <td>31.054015</td>\n",
       "      <td>31.344355</td>\n",
       "      <td>33.465550</td>\n",
       "      <td>38.310642</td>\n",
       "      <td>51.612304</td>\n",
       "      <td>59.319929</td>\n",
       "      <td>67.827485</td>\n",
       "      <td>81.617123</td>\n",
       "      <td>84.766491</td>\n",
       "      <td>89.326155</td>\n",
       "      <td>102.718257</td>\n",
       "      <td>112.077724</td>\n",
       "      <td>124.554282</td>\n",
       "      <td>121.827613</td>\n",
       "      <td>98.418717</td>\n",
       "      <td>83.869277</td>\n",
       "      <td>74.786659</td>\n",
       "      <td>73.448845</td>\n",
       "      <td>66.548534</td>\n",
       "      <td>47.396075</td>\n",
       "      <td>38.831912</td>\n",
       "    </tr>\n",
       "    <tr>\n",
       "      <th>2011-06-02</th>\n",
       "      <td>33.593616</td>\n",
       "      <td>33.606122</td>\n",
       "      <td>32.354528</td>\n",
       "      <td>31.274359</td>\n",
       "      <td>32.026587</td>\n",
       "      <td>33.142159</td>\n",
       "      <td>36.310319</td>\n",
       "      <td>40.296283</td>\n",
       "      <td>42.311022</td>\n",
       "      <td>46.674041</td>\n",
       "      <td>51.743669</td>\n",
       "      <td>53.713840</td>\n",
       "      <td>55.569879</td>\n",
       "      <td>61.261930</td>\n",
       "      <td>64.443927</td>\n",
       "      <td>67.976378</td>\n",
       "      <td>67.752257</td>\n",
       "      <td>60.743482</td>\n",
       "      <td>53.301269</td>\n",
       "      <td>49.452922</td>\n",
       "      <td>50.326186</td>\n",
       "      <td>45.565143</td>\n",
       "      <td>36.729084</td>\n",
       "      <td>32.727587</td>\n",
       "    </tr>\n",
       "    <tr>\n",
       "      <th>2011-06-03</th>\n",
       "      <td>32.293507</td>\n",
       "      <td>30.634917</td>\n",
       "      <td>27.565842</td>\n",
       "      <td>26.813051</td>\n",
       "      <td>27.460818</td>\n",
       "      <td>30.501847</td>\n",
       "      <td>33.817086</td>\n",
       "      <td>37.645471</td>\n",
       "      <td>39.036606</td>\n",
       "      <td>40.235478</td>\n",
       "      <td>45.292536</td>\n",
       "      <td>49.526780</td>\n",
       "      <td>55.125494</td>\n",
       "      <td>57.908511</td>\n",
       "      <td>60.720871</td>\n",
       "      <td>65.680930</td>\n",
       "      <td>68.232932</td>\n",
       "      <td>63.434124</td>\n",
       "      <td>52.710281</td>\n",
       "      <td>45.995139</td>\n",
       "      <td>45.198169</td>\n",
       "      <td>42.829977</td>\n",
       "      <td>39.620136</td>\n",
       "      <td>36.192705</td>\n",
       "    </tr>\n",
       "    <tr>\n",
       "      <th>2011-06-04</th>\n",
       "      <td>32.744399</td>\n",
       "      <td>31.973549</td>\n",
       "      <td>31.059064</td>\n",
       "      <td>29.548871</td>\n",
       "      <td>28.779442</td>\n",
       "      <td>28.882158</td>\n",
       "      <td>29.160860</td>\n",
       "      <td>32.504133</td>\n",
       "      <td>35.158368</td>\n",
       "      <td>37.748415</td>\n",
       "      <td>41.601883</td>\n",
       "      <td>45.362320</td>\n",
       "      <td>49.257071</td>\n",
       "      <td>49.193096</td>\n",
       "      <td>53.444718</td>\n",
       "      <td>60.304318</td>\n",
       "      <td>66.700160</td>\n",
       "      <td>58.616541</td>\n",
       "      <td>49.174129</td>\n",
       "      <td>45.570686</td>\n",
       "      <td>45.360873</td>\n",
       "      <td>45.856755</td>\n",
       "      <td>37.659000</td>\n",
       "      <td>35.700419</td>\n",
       "    </tr>\n",
       "    <tr>\n",
       "      <th>2011-06-05</th>\n",
       "      <td>32.462243</td>\n",
       "      <td>30.316600</td>\n",
       "      <td>28.457491</td>\n",
       "      <td>27.457401</td>\n",
       "      <td>27.068929</td>\n",
       "      <td>26.974801</td>\n",
       "      <td>26.951645</td>\n",
       "      <td>28.106413</td>\n",
       "      <td>32.179481</td>\n",
       "      <td>34.344162</td>\n",
       "      <td>35.893242</td>\n",
       "      <td>40.988392</td>\n",
       "      <td>45.465087</td>\n",
       "      <td>46.253506</td>\n",
       "      <td>46.689036</td>\n",
       "      <td>46.604262</td>\n",
       "      <td>47.958736</td>\n",
       "      <td>47.046500</td>\n",
       "      <td>44.374389</td>\n",
       "      <td>44.066582</td>\n",
       "      <td>43.877104</td>\n",
       "      <td>44.135593</td>\n",
       "      <td>33.913758</td>\n",
       "      <td>31.615728</td>\n",
       "    </tr>\n",
       "    <tr>\n",
       "      <th>...</th>\n",
       "      <td>...</td>\n",
       "      <td>...</td>\n",
       "      <td>...</td>\n",
       "      <td>...</td>\n",
       "      <td>...</td>\n",
       "      <td>...</td>\n",
       "      <td>...</td>\n",
       "      <td>...</td>\n",
       "      <td>...</td>\n",
       "      <td>...</td>\n",
       "      <td>...</td>\n",
       "      <td>...</td>\n",
       "      <td>...</td>\n",
       "      <td>...</td>\n",
       "      <td>...</td>\n",
       "      <td>...</td>\n",
       "      <td>...</td>\n",
       "      <td>...</td>\n",
       "      <td>...</td>\n",
       "      <td>...</td>\n",
       "      <td>...</td>\n",
       "      <td>...</td>\n",
       "      <td>...</td>\n",
       "      <td>...</td>\n",
       "    </tr>\n",
       "    <tr>\n",
       "      <th>2015-09-26</th>\n",
       "      <td>21.806442</td>\n",
       "      <td>20.451327</td>\n",
       "      <td>18.573344</td>\n",
       "      <td>17.158109</td>\n",
       "      <td>17.128918</td>\n",
       "      <td>19.455119</td>\n",
       "      <td>21.505219</td>\n",
       "      <td>22.179190</td>\n",
       "      <td>23.736748</td>\n",
       "      <td>25.829853</td>\n",
       "      <td>27.939934</td>\n",
       "      <td>29.825351</td>\n",
       "      <td>30.543040</td>\n",
       "      <td>28.471708</td>\n",
       "      <td>28.744310</td>\n",
       "      <td>28.080878</td>\n",
       "      <td>27.960293</td>\n",
       "      <td>27.824867</td>\n",
       "      <td>27.284950</td>\n",
       "      <td>32.438847</td>\n",
       "      <td>31.338603</td>\n",
       "      <td>25.137243</td>\n",
       "      <td>23.166140</td>\n",
       "      <td>20.500089</td>\n",
       "    </tr>\n",
       "    <tr>\n",
       "      <th>2015-09-27</th>\n",
       "      <td>19.667340</td>\n",
       "      <td>18.322255</td>\n",
       "      <td>17.259341</td>\n",
       "      <td>12.605488</td>\n",
       "      <td>12.371392</td>\n",
       "      <td>16.854907</td>\n",
       "      <td>18.710416</td>\n",
       "      <td>19.077549</td>\n",
       "      <td>22.649406</td>\n",
       "      <td>24.369337</td>\n",
       "      <td>24.592867</td>\n",
       "      <td>25.136424</td>\n",
       "      <td>25.729840</td>\n",
       "      <td>26.221938</td>\n",
       "      <td>27.050221</td>\n",
       "      <td>27.510889</td>\n",
       "      <td>28.298770</td>\n",
       "      <td>29.315448</td>\n",
       "      <td>29.353348</td>\n",
       "      <td>38.722739</td>\n",
       "      <td>32.888952</td>\n",
       "      <td>26.726489</td>\n",
       "      <td>23.865234</td>\n",
       "      <td>22.480865</td>\n",
       "    </tr>\n",
       "    <tr>\n",
       "      <th>2015-09-28</th>\n",
       "      <td>20.333870</td>\n",
       "      <td>19.399722</td>\n",
       "      <td>17.045062</td>\n",
       "      <td>16.165473</td>\n",
       "      <td>18.389624</td>\n",
       "      <td>22.101171</td>\n",
       "      <td>30.967083</td>\n",
       "      <td>26.224321</td>\n",
       "      <td>27.658023</td>\n",
       "      <td>30.360403</td>\n",
       "      <td>30.532868</td>\n",
       "      <td>32.982014</td>\n",
       "      <td>35.380510</td>\n",
       "      <td>36.832215</td>\n",
       "      <td>39.828119</td>\n",
       "      <td>40.141329</td>\n",
       "      <td>41.431930</td>\n",
       "      <td>36.115586</td>\n",
       "      <td>33.663774</td>\n",
       "      <td>48.144683</td>\n",
       "      <td>39.747604</td>\n",
       "      <td>30.809900</td>\n",
       "      <td>25.624963</td>\n",
       "      <td>23.444321</td>\n",
       "    </tr>\n",
       "    <tr>\n",
       "      <th>2015-09-29</th>\n",
       "      <td>23.613273</td>\n",
       "      <td>22.266123</td>\n",
       "      <td>20.913425</td>\n",
       "      <td>20.272541</td>\n",
       "      <td>21.511584</td>\n",
       "      <td>23.956625</td>\n",
       "      <td>31.416334</td>\n",
       "      <td>30.560323</td>\n",
       "      <td>32.149462</td>\n",
       "      <td>35.042730</td>\n",
       "      <td>42.233392</td>\n",
       "      <td>42.885517</td>\n",
       "      <td>45.158323</td>\n",
       "      <td>49.252173</td>\n",
       "      <td>49.260107</td>\n",
       "      <td>48.462285</td>\n",
       "      <td>45.943402</td>\n",
       "      <td>39.709369</td>\n",
       "      <td>35.044009</td>\n",
       "      <td>52.561220</td>\n",
       "      <td>43.138808</td>\n",
       "      <td>31.579578</td>\n",
       "      <td>25.878100</td>\n",
       "      <td>23.528177</td>\n",
       "    </tr>\n",
       "    <tr>\n",
       "      <th>2015-09-30</th>\n",
       "      <td>23.723038</td>\n",
       "      <td>22.399121</td>\n",
       "      <td>21.244604</td>\n",
       "      <td>19.972555</td>\n",
       "      <td>21.689380</td>\n",
       "      <td>23.998201</td>\n",
       "      <td>33.630023</td>\n",
       "      <td>35.379322</td>\n",
       "      <td>37.513054</td>\n",
       "      <td>39.016744</td>\n",
       "      <td>43.262409</td>\n",
       "      <td>42.903671</td>\n",
       "      <td>42.241388</td>\n",
       "      <td>42.654652</td>\n",
       "      <td>41.013110</td>\n",
       "      <td>39.872821</td>\n",
       "      <td>38.634275</td>\n",
       "      <td>33.993656</td>\n",
       "      <td>32.868686</td>\n",
       "      <td>48.490829</td>\n",
       "      <td>38.679485</td>\n",
       "      <td>27.549892</td>\n",
       "      <td>24.428552</td>\n",
       "      <td>21.592810</td>\n",
       "    </tr>\n",
       "  </tbody>\n",
       "</table>\n",
       "<p>1583 rows × 24 columns</p>\n",
       "</div>"
      ],
      "text/plain": [
       "                  HE1        HE2        HE3  ...       HE22       HE23       HE24\n",
       "Date                                         ...                                 \n",
       "2011-06-01  38.000000  39.355392  34.626365  ...  66.548534  47.396075  38.831912\n",
       "2011-06-02  33.593616  33.606122  32.354528  ...  45.565143  36.729084  32.727587\n",
       "2011-06-03  32.293507  30.634917  27.565842  ...  42.829977  39.620136  36.192705\n",
       "2011-06-04  32.744399  31.973549  31.059064  ...  45.856755  37.659000  35.700419\n",
       "2011-06-05  32.462243  30.316600  28.457491  ...  44.135593  33.913758  31.615728\n",
       "...               ...        ...        ...  ...        ...        ...        ...\n",
       "2015-09-26  21.806442  20.451327  18.573344  ...  25.137243  23.166140  20.500089\n",
       "2015-09-27  19.667340  18.322255  17.259341  ...  26.726489  23.865234  22.480865\n",
       "2015-09-28  20.333870  19.399722  17.045062  ...  30.809900  25.624963  23.444321\n",
       "2015-09-29  23.613273  22.266123  20.913425  ...  31.579578  25.878100  23.528177\n",
       "2015-09-30  23.723038  22.399121  21.244604  ...  27.549892  24.428552  21.592810\n",
       "\n",
       "[1583 rows x 24 columns]"
      ]
     },
     "execution_count": 7,
     "metadata": {
      "tags": []
     },
     "output_type": "execute_result"
    }
   ],
   "source": [
    "df1 = pd.read_excel(r'Project3_GenerationDispatch.xlsx','powerPrice',index_col=0)\n",
    "df1"
   ]
  },
  {
   "cell_type": "code",
   "execution_count": 8,
   "metadata": {
    "colab": {
     "base_uri": "https://localhost:8080/",
     "height": 450
    },
    "id": "uGmOxk5R1jnk",
    "outputId": "de0556b7-851f-4f74-d5e0-b3186d05ff86"
   },
   "outputs": [
    {
     "data": {
      "text/html": [
       "<div>\n",
       "<style scoped>\n",
       "    .dataframe tbody tr th:only-of-type {\n",
       "        vertical-align: middle;\n",
       "    }\n",
       "\n",
       "    .dataframe tbody tr th {\n",
       "        vertical-align: top;\n",
       "    }\n",
       "\n",
       "    .dataframe thead th {\n",
       "        text-align: right;\n",
       "    }\n",
       "</style>\n",
       "<table border=\"1\" class=\"dataframe\">\n",
       "  <thead>\n",
       "    <tr style=\"text-align: right;\">\n",
       "      <th></th>\n",
       "      <th>gasprice</th>\n",
       "    </tr>\n",
       "    <tr>\n",
       "      <th>Date</th>\n",
       "      <th></th>\n",
       "    </tr>\n",
       "  </thead>\n",
       "  <tbody>\n",
       "    <tr>\n",
       "      <th>2011-06-01</th>\n",
       "      <td>4.825</td>\n",
       "    </tr>\n",
       "    <tr>\n",
       "      <th>2011-06-02</th>\n",
       "      <td>4.825</td>\n",
       "    </tr>\n",
       "    <tr>\n",
       "      <th>2011-06-03</th>\n",
       "      <td>4.870</td>\n",
       "    </tr>\n",
       "    <tr>\n",
       "      <th>2011-06-04</th>\n",
       "      <td>4.940</td>\n",
       "    </tr>\n",
       "    <tr>\n",
       "      <th>2011-06-05</th>\n",
       "      <td>4.940</td>\n",
       "    </tr>\n",
       "    <tr>\n",
       "      <th>...</th>\n",
       "      <td>...</td>\n",
       "    </tr>\n",
       "    <tr>\n",
       "      <th>2015-09-26</th>\n",
       "      <td>2.865</td>\n",
       "    </tr>\n",
       "    <tr>\n",
       "      <th>2015-09-27</th>\n",
       "      <td>2.865</td>\n",
       "    </tr>\n",
       "    <tr>\n",
       "      <th>2015-09-28</th>\n",
       "      <td>2.865</td>\n",
       "    </tr>\n",
       "    <tr>\n",
       "      <th>2015-09-29</th>\n",
       "      <td>2.915</td>\n",
       "    </tr>\n",
       "    <tr>\n",
       "      <th>2015-09-30</th>\n",
       "      <td>2.860</td>\n",
       "    </tr>\n",
       "  </tbody>\n",
       "</table>\n",
       "<p>1583 rows × 1 columns</p>\n",
       "</div>"
      ],
      "text/plain": [
       "            gasprice\n",
       "Date                \n",
       "2011-06-01     4.825\n",
       "2011-06-02     4.825\n",
       "2011-06-03     4.870\n",
       "2011-06-04     4.940\n",
       "2011-06-05     4.940\n",
       "...              ...\n",
       "2015-09-26     2.865\n",
       "2015-09-27     2.865\n",
       "2015-09-28     2.865\n",
       "2015-09-29     2.915\n",
       "2015-09-30     2.860\n",
       "\n",
       "[1583 rows x 1 columns]"
      ]
     },
     "execution_count": 8,
     "metadata": {
      "tags": []
     },
     "output_type": "execute_result"
    }
   ],
   "source": [
    "df2 = pd.read_excel(r'Project3_GenerationDispatch.xlsx','gasPrice',index_col=0)\n",
    "df2"
   ]
  },
  {
   "cell_type": "code",
   "execution_count": 9,
   "metadata": {
    "colab": {
     "base_uri": "https://localhost:8080/",
     "height": 450
    },
    "id": "0rsA0Ket1jnl",
    "outputId": "2baaffc6-e3bf-4c82-8d8c-9f98e6e1b162"
   },
   "outputs": [
    {
     "data": {
      "text/html": [
       "<div>\n",
       "<style scoped>\n",
       "    .dataframe tbody tr th:only-of-type {\n",
       "        vertical-align: middle;\n",
       "    }\n",
       "\n",
       "    .dataframe tbody tr th {\n",
       "        vertical-align: top;\n",
       "    }\n",
       "\n",
       "    .dataframe thead th {\n",
       "        text-align: right;\n",
       "    }\n",
       "</style>\n",
       "<table border=\"1\" class=\"dataframe\">\n",
       "  <thead>\n",
       "    <tr style=\"text-align: right;\">\n",
       "      <th></th>\n",
       "      <th>HE1</th>\n",
       "      <th>HE2</th>\n",
       "      <th>HE3</th>\n",
       "      <th>HE4</th>\n",
       "      <th>HE5</th>\n",
       "      <th>HE6</th>\n",
       "      <th>HE7</th>\n",
       "      <th>HE8</th>\n",
       "      <th>HE9</th>\n",
       "      <th>HE10</th>\n",
       "      <th>HE11</th>\n",
       "      <th>HE12</th>\n",
       "      <th>HE13</th>\n",
       "      <th>HE14</th>\n",
       "      <th>HE15</th>\n",
       "      <th>HE16</th>\n",
       "      <th>HE17</th>\n",
       "      <th>HE18</th>\n",
       "      <th>HE19</th>\n",
       "      <th>HE20</th>\n",
       "      <th>HE21</th>\n",
       "      <th>HE22</th>\n",
       "      <th>HE23</th>\n",
       "      <th>HE24</th>\n",
       "    </tr>\n",
       "    <tr>\n",
       "      <th>Date</th>\n",
       "      <th></th>\n",
       "      <th></th>\n",
       "      <th></th>\n",
       "      <th></th>\n",
       "      <th></th>\n",
       "      <th></th>\n",
       "      <th></th>\n",
       "      <th></th>\n",
       "      <th></th>\n",
       "      <th></th>\n",
       "      <th></th>\n",
       "      <th></th>\n",
       "      <th></th>\n",
       "      <th></th>\n",
       "      <th></th>\n",
       "      <th></th>\n",
       "      <th></th>\n",
       "      <th></th>\n",
       "      <th></th>\n",
       "      <th></th>\n",
       "      <th></th>\n",
       "      <th></th>\n",
       "      <th></th>\n",
       "      <th></th>\n",
       "    </tr>\n",
       "  </thead>\n",
       "  <tbody>\n",
       "    <tr>\n",
       "      <th>2011-06-01</th>\n",
       "      <td>NaN</td>\n",
       "      <td>NaN</td>\n",
       "      <td>NaN</td>\n",
       "      <td>NaN</td>\n",
       "      <td>NaN</td>\n",
       "      <td>NaN</td>\n",
       "      <td>NaN</td>\n",
       "      <td>NaN</td>\n",
       "      <td>NaN</td>\n",
       "      <td>NaN</td>\n",
       "      <td>NaN</td>\n",
       "      <td>NaN</td>\n",
       "      <td>NaN</td>\n",
       "      <td>NaN</td>\n",
       "      <td>NaN</td>\n",
       "      <td>NaN</td>\n",
       "      <td>NaN</td>\n",
       "      <td>NaN</td>\n",
       "      <td>NaN</td>\n",
       "      <td>NaN</td>\n",
       "      <td>NaN</td>\n",
       "      <td>NaN</td>\n",
       "      <td>NaN</td>\n",
       "      <td>NaN</td>\n",
       "    </tr>\n",
       "    <tr>\n",
       "      <th>2011-06-02</th>\n",
       "      <td>NaN</td>\n",
       "      <td>NaN</td>\n",
       "      <td>NaN</td>\n",
       "      <td>NaN</td>\n",
       "      <td>NaN</td>\n",
       "      <td>NaN</td>\n",
       "      <td>NaN</td>\n",
       "      <td>NaN</td>\n",
       "      <td>NaN</td>\n",
       "      <td>NaN</td>\n",
       "      <td>NaN</td>\n",
       "      <td>NaN</td>\n",
       "      <td>NaN</td>\n",
       "      <td>NaN</td>\n",
       "      <td>NaN</td>\n",
       "      <td>NaN</td>\n",
       "      <td>NaN</td>\n",
       "      <td>NaN</td>\n",
       "      <td>NaN</td>\n",
       "      <td>NaN</td>\n",
       "      <td>NaN</td>\n",
       "      <td>NaN</td>\n",
       "      <td>NaN</td>\n",
       "      <td>NaN</td>\n",
       "    </tr>\n",
       "    <tr>\n",
       "      <th>2011-06-03</th>\n",
       "      <td>NaN</td>\n",
       "      <td>NaN</td>\n",
       "      <td>NaN</td>\n",
       "      <td>NaN</td>\n",
       "      <td>NaN</td>\n",
       "      <td>NaN</td>\n",
       "      <td>NaN</td>\n",
       "      <td>NaN</td>\n",
       "      <td>NaN</td>\n",
       "      <td>NaN</td>\n",
       "      <td>NaN</td>\n",
       "      <td>NaN</td>\n",
       "      <td>NaN</td>\n",
       "      <td>NaN</td>\n",
       "      <td>NaN</td>\n",
       "      <td>NaN</td>\n",
       "      <td>NaN</td>\n",
       "      <td>NaN</td>\n",
       "      <td>NaN</td>\n",
       "      <td>NaN</td>\n",
       "      <td>NaN</td>\n",
       "      <td>NaN</td>\n",
       "      <td>NaN</td>\n",
       "      <td>NaN</td>\n",
       "    </tr>\n",
       "    <tr>\n",
       "      <th>2011-06-04</th>\n",
       "      <td>NaN</td>\n",
       "      <td>NaN</td>\n",
       "      <td>NaN</td>\n",
       "      <td>NaN</td>\n",
       "      <td>NaN</td>\n",
       "      <td>NaN</td>\n",
       "      <td>NaN</td>\n",
       "      <td>NaN</td>\n",
       "      <td>NaN</td>\n",
       "      <td>NaN</td>\n",
       "      <td>NaN</td>\n",
       "      <td>NaN</td>\n",
       "      <td>NaN</td>\n",
       "      <td>NaN</td>\n",
       "      <td>NaN</td>\n",
       "      <td>NaN</td>\n",
       "      <td>NaN</td>\n",
       "      <td>NaN</td>\n",
       "      <td>NaN</td>\n",
       "      <td>NaN</td>\n",
       "      <td>NaN</td>\n",
       "      <td>NaN</td>\n",
       "      <td>NaN</td>\n",
       "      <td>NaN</td>\n",
       "    </tr>\n",
       "    <tr>\n",
       "      <th>2011-06-05</th>\n",
       "      <td>NaN</td>\n",
       "      <td>NaN</td>\n",
       "      <td>NaN</td>\n",
       "      <td>NaN</td>\n",
       "      <td>NaN</td>\n",
       "      <td>NaN</td>\n",
       "      <td>NaN</td>\n",
       "      <td>NaN</td>\n",
       "      <td>NaN</td>\n",
       "      <td>NaN</td>\n",
       "      <td>NaN</td>\n",
       "      <td>NaN</td>\n",
       "      <td>NaN</td>\n",
       "      <td>NaN</td>\n",
       "      <td>NaN</td>\n",
       "      <td>NaN</td>\n",
       "      <td>NaN</td>\n",
       "      <td>NaN</td>\n",
       "      <td>NaN</td>\n",
       "      <td>NaN</td>\n",
       "      <td>NaN</td>\n",
       "      <td>NaN</td>\n",
       "      <td>NaN</td>\n",
       "      <td>NaN</td>\n",
       "    </tr>\n",
       "    <tr>\n",
       "      <th>...</th>\n",
       "      <td>...</td>\n",
       "      <td>...</td>\n",
       "      <td>...</td>\n",
       "      <td>...</td>\n",
       "      <td>...</td>\n",
       "      <td>...</td>\n",
       "      <td>...</td>\n",
       "      <td>...</td>\n",
       "      <td>...</td>\n",
       "      <td>...</td>\n",
       "      <td>...</td>\n",
       "      <td>...</td>\n",
       "      <td>...</td>\n",
       "      <td>...</td>\n",
       "      <td>...</td>\n",
       "      <td>...</td>\n",
       "      <td>...</td>\n",
       "      <td>...</td>\n",
       "      <td>...</td>\n",
       "      <td>...</td>\n",
       "      <td>...</td>\n",
       "      <td>...</td>\n",
       "      <td>...</td>\n",
       "      <td>...</td>\n",
       "    </tr>\n",
       "    <tr>\n",
       "      <th>2015-09-26</th>\n",
       "      <td>NaN</td>\n",
       "      <td>NaN</td>\n",
       "      <td>NaN</td>\n",
       "      <td>NaN</td>\n",
       "      <td>NaN</td>\n",
       "      <td>NaN</td>\n",
       "      <td>NaN</td>\n",
       "      <td>NaN</td>\n",
       "      <td>NaN</td>\n",
       "      <td>NaN</td>\n",
       "      <td>NaN</td>\n",
       "      <td>NaN</td>\n",
       "      <td>NaN</td>\n",
       "      <td>NaN</td>\n",
       "      <td>NaN</td>\n",
       "      <td>NaN</td>\n",
       "      <td>NaN</td>\n",
       "      <td>NaN</td>\n",
       "      <td>NaN</td>\n",
       "      <td>NaN</td>\n",
       "      <td>NaN</td>\n",
       "      <td>NaN</td>\n",
       "      <td>NaN</td>\n",
       "      <td>NaN</td>\n",
       "    </tr>\n",
       "    <tr>\n",
       "      <th>2015-09-27</th>\n",
       "      <td>NaN</td>\n",
       "      <td>NaN</td>\n",
       "      <td>NaN</td>\n",
       "      <td>NaN</td>\n",
       "      <td>NaN</td>\n",
       "      <td>NaN</td>\n",
       "      <td>NaN</td>\n",
       "      <td>NaN</td>\n",
       "      <td>NaN</td>\n",
       "      <td>NaN</td>\n",
       "      <td>NaN</td>\n",
       "      <td>NaN</td>\n",
       "      <td>NaN</td>\n",
       "      <td>NaN</td>\n",
       "      <td>NaN</td>\n",
       "      <td>NaN</td>\n",
       "      <td>NaN</td>\n",
       "      <td>NaN</td>\n",
       "      <td>NaN</td>\n",
       "      <td>NaN</td>\n",
       "      <td>NaN</td>\n",
       "      <td>NaN</td>\n",
       "      <td>NaN</td>\n",
       "      <td>NaN</td>\n",
       "    </tr>\n",
       "    <tr>\n",
       "      <th>2015-09-28</th>\n",
       "      <td>NaN</td>\n",
       "      <td>NaN</td>\n",
       "      <td>NaN</td>\n",
       "      <td>NaN</td>\n",
       "      <td>NaN</td>\n",
       "      <td>NaN</td>\n",
       "      <td>NaN</td>\n",
       "      <td>NaN</td>\n",
       "      <td>NaN</td>\n",
       "      <td>NaN</td>\n",
       "      <td>NaN</td>\n",
       "      <td>NaN</td>\n",
       "      <td>NaN</td>\n",
       "      <td>NaN</td>\n",
       "      <td>NaN</td>\n",
       "      <td>NaN</td>\n",
       "      <td>NaN</td>\n",
       "      <td>NaN</td>\n",
       "      <td>NaN</td>\n",
       "      <td>NaN</td>\n",
       "      <td>NaN</td>\n",
       "      <td>NaN</td>\n",
       "      <td>NaN</td>\n",
       "      <td>NaN</td>\n",
       "    </tr>\n",
       "    <tr>\n",
       "      <th>2015-09-29</th>\n",
       "      <td>NaN</td>\n",
       "      <td>NaN</td>\n",
       "      <td>NaN</td>\n",
       "      <td>NaN</td>\n",
       "      <td>NaN</td>\n",
       "      <td>NaN</td>\n",
       "      <td>NaN</td>\n",
       "      <td>NaN</td>\n",
       "      <td>NaN</td>\n",
       "      <td>NaN</td>\n",
       "      <td>NaN</td>\n",
       "      <td>NaN</td>\n",
       "      <td>NaN</td>\n",
       "      <td>NaN</td>\n",
       "      <td>NaN</td>\n",
       "      <td>NaN</td>\n",
       "      <td>NaN</td>\n",
       "      <td>NaN</td>\n",
       "      <td>NaN</td>\n",
       "      <td>NaN</td>\n",
       "      <td>NaN</td>\n",
       "      <td>NaN</td>\n",
       "      <td>NaN</td>\n",
       "      <td>NaN</td>\n",
       "    </tr>\n",
       "    <tr>\n",
       "      <th>2015-09-30</th>\n",
       "      <td>NaN</td>\n",
       "      <td>NaN</td>\n",
       "      <td>NaN</td>\n",
       "      <td>NaN</td>\n",
       "      <td>NaN</td>\n",
       "      <td>NaN</td>\n",
       "      <td>NaN</td>\n",
       "      <td>NaN</td>\n",
       "      <td>NaN</td>\n",
       "      <td>NaN</td>\n",
       "      <td>NaN</td>\n",
       "      <td>NaN</td>\n",
       "      <td>NaN</td>\n",
       "      <td>NaN</td>\n",
       "      <td>NaN</td>\n",
       "      <td>NaN</td>\n",
       "      <td>NaN</td>\n",
       "      <td>NaN</td>\n",
       "      <td>NaN</td>\n",
       "      <td>NaN</td>\n",
       "      <td>NaN</td>\n",
       "      <td>NaN</td>\n",
       "      <td>NaN</td>\n",
       "      <td>NaN</td>\n",
       "    </tr>\n",
       "  </tbody>\n",
       "</table>\n",
       "<p>1583 rows × 24 columns</p>\n",
       "</div>"
      ],
      "text/plain": [
       "            HE1  HE2  HE3  HE4  HE5  HE6  ...  HE19  HE20  HE21  HE22  HE23  HE24\n",
       "Date                                      ...                                    \n",
       "2011-06-01  NaN  NaN  NaN  NaN  NaN  NaN  ...   NaN   NaN   NaN   NaN   NaN   NaN\n",
       "2011-06-02  NaN  NaN  NaN  NaN  NaN  NaN  ...   NaN   NaN   NaN   NaN   NaN   NaN\n",
       "2011-06-03  NaN  NaN  NaN  NaN  NaN  NaN  ...   NaN   NaN   NaN   NaN   NaN   NaN\n",
       "2011-06-04  NaN  NaN  NaN  NaN  NaN  NaN  ...   NaN   NaN   NaN   NaN   NaN   NaN\n",
       "2011-06-05  NaN  NaN  NaN  NaN  NaN  NaN  ...   NaN   NaN   NaN   NaN   NaN   NaN\n",
       "...         ...  ...  ...  ...  ...  ...  ...   ...   ...   ...   ...   ...   ...\n",
       "2015-09-26  NaN  NaN  NaN  NaN  NaN  NaN  ...   NaN   NaN   NaN   NaN   NaN   NaN\n",
       "2015-09-27  NaN  NaN  NaN  NaN  NaN  NaN  ...   NaN   NaN   NaN   NaN   NaN   NaN\n",
       "2015-09-28  NaN  NaN  NaN  NaN  NaN  NaN  ...   NaN   NaN   NaN   NaN   NaN   NaN\n",
       "2015-09-29  NaN  NaN  NaN  NaN  NaN  NaN  ...   NaN   NaN   NaN   NaN   NaN   NaN\n",
       "2015-09-30  NaN  NaN  NaN  NaN  NaN  NaN  ...   NaN   NaN   NaN   NaN   NaN   NaN\n",
       "\n",
       "[1583 rows x 24 columns]"
      ]
     },
     "execution_count": 9,
     "metadata": {
      "tags": []
     },
     "output_type": "execute_result"
    }
   ],
   "source": [
    "df= pd.DataFrame().reindex_like(df1)\n",
    "df"
   ]
  },
  {
   "cell_type": "markdown",
   "metadata": {
    "id": "gkR104e-1jnl"
   },
   "source": [
    "# Calulate Hourly Headroom"
   ]
  },
  {
   "cell_type": "code",
   "execution_count": 10,
   "metadata": {
    "colab": {
     "base_uri": "https://localhost:8080/",
     "height": 640
    },
    "id": "MLnWKcr11jnl",
    "outputId": "7c1039ca-ee0e-4afd-8600-563c0dd4800e"
   },
   "outputs": [
    {
     "data": {
      "text/html": [
       "<div>\n",
       "<style scoped>\n",
       "    .dataframe tbody tr th:only-of-type {\n",
       "        vertical-align: middle;\n",
       "    }\n",
       "\n",
       "    .dataframe tbody tr th {\n",
       "        vertical-align: top;\n",
       "    }\n",
       "\n",
       "    .dataframe thead th {\n",
       "        text-align: right;\n",
       "    }\n",
       "</style>\n",
       "<table border=\"1\" class=\"dataframe\">\n",
       "  <thead>\n",
       "    <tr style=\"text-align: right;\">\n",
       "      <th></th>\n",
       "      <th>HE1</th>\n",
       "      <th>HE2</th>\n",
       "      <th>HE3</th>\n",
       "      <th>HE4</th>\n",
       "      <th>HE5</th>\n",
       "      <th>HE6</th>\n",
       "      <th>HE7</th>\n",
       "      <th>HE8</th>\n",
       "      <th>HE9</th>\n",
       "      <th>HE10</th>\n",
       "      <th>HE11</th>\n",
       "      <th>HE12</th>\n",
       "      <th>HE13</th>\n",
       "      <th>HE14</th>\n",
       "      <th>HE15</th>\n",
       "      <th>HE16</th>\n",
       "      <th>HE17</th>\n",
       "      <th>HE18</th>\n",
       "      <th>HE19</th>\n",
       "      <th>HE20</th>\n",
       "      <th>HE21</th>\n",
       "      <th>HE22</th>\n",
       "      <th>HE23</th>\n",
       "      <th>HE24</th>\n",
       "    </tr>\n",
       "    <tr>\n",
       "      <th>Date</th>\n",
       "      <th></th>\n",
       "      <th></th>\n",
       "      <th></th>\n",
       "      <th></th>\n",
       "      <th></th>\n",
       "      <th></th>\n",
       "      <th></th>\n",
       "      <th></th>\n",
       "      <th></th>\n",
       "      <th></th>\n",
       "      <th></th>\n",
       "      <th></th>\n",
       "      <th></th>\n",
       "      <th></th>\n",
       "      <th></th>\n",
       "      <th></th>\n",
       "      <th></th>\n",
       "      <th></th>\n",
       "      <th></th>\n",
       "      <th></th>\n",
       "      <th></th>\n",
       "      <th></th>\n",
       "      <th></th>\n",
       "      <th></th>\n",
       "    </tr>\n",
       "  </thead>\n",
       "  <tbody>\n",
       "    <tr>\n",
       "      <th>2011-06-01</th>\n",
       "      <td>-20.812500</td>\n",
       "      <td>-19.457108</td>\n",
       "      <td>-24.186135</td>\n",
       "      <td>-27.758485</td>\n",
       "      <td>-27.468145</td>\n",
       "      <td>-25.346950</td>\n",
       "      <td>-20.501858</td>\n",
       "      <td>-7.200196</td>\n",
       "      <td>0.507429</td>\n",
       "      <td>9.014985</td>\n",
       "      <td>22.804623</td>\n",
       "      <td>25.953991</td>\n",
       "      <td>30.513655</td>\n",
       "      <td>43.905757</td>\n",
       "      <td>53.265224</td>\n",
       "      <td>65.741782</td>\n",
       "      <td>63.015113</td>\n",
       "      <td>39.606217</td>\n",
       "      <td>25.056777</td>\n",
       "      <td>15.974159</td>\n",
       "      <td>14.636345</td>\n",
       "      <td>7.736034</td>\n",
       "      <td>-11.416425</td>\n",
       "      <td>-19.980588</td>\n",
       "    </tr>\n",
       "    <tr>\n",
       "      <th>2011-06-02</th>\n",
       "      <td>-25.218884</td>\n",
       "      <td>-25.206378</td>\n",
       "      <td>-26.457972</td>\n",
       "      <td>-27.538141</td>\n",
       "      <td>-26.785913</td>\n",
       "      <td>-25.670341</td>\n",
       "      <td>-22.502181</td>\n",
       "      <td>-18.516217</td>\n",
       "      <td>-16.501478</td>\n",
       "      <td>-12.138459</td>\n",
       "      <td>-7.068831</td>\n",
       "      <td>-5.098660</td>\n",
       "      <td>-3.242621</td>\n",
       "      <td>2.449430</td>\n",
       "      <td>5.631427</td>\n",
       "      <td>9.163878</td>\n",
       "      <td>8.939757</td>\n",
       "      <td>1.930982</td>\n",
       "      <td>-5.511231</td>\n",
       "      <td>-9.359578</td>\n",
       "      <td>-8.486314</td>\n",
       "      <td>-13.247357</td>\n",
       "      <td>-22.083416</td>\n",
       "      <td>-26.084913</td>\n",
       "    </tr>\n",
       "    <tr>\n",
       "      <th>2011-06-03</th>\n",
       "      <td>-26.991493</td>\n",
       "      <td>-28.650083</td>\n",
       "      <td>-31.719158</td>\n",
       "      <td>-32.471949</td>\n",
       "      <td>-31.824182</td>\n",
       "      <td>-28.783153</td>\n",
       "      <td>-25.467914</td>\n",
       "      <td>-21.639529</td>\n",
       "      <td>-20.248394</td>\n",
       "      <td>-19.049522</td>\n",
       "      <td>-13.992464</td>\n",
       "      <td>-9.758220</td>\n",
       "      <td>-4.159506</td>\n",
       "      <td>-1.376489</td>\n",
       "      <td>1.435871</td>\n",
       "      <td>6.395930</td>\n",
       "      <td>8.947932</td>\n",
       "      <td>4.149124</td>\n",
       "      <td>-6.574719</td>\n",
       "      <td>-13.289861</td>\n",
       "      <td>-14.086831</td>\n",
       "      <td>-16.455023</td>\n",
       "      <td>-19.664864</td>\n",
       "      <td>-23.092295</td>\n",
       "    </tr>\n",
       "    <tr>\n",
       "      <th>2011-06-04</th>\n",
       "      <td>-27.275601</td>\n",
       "      <td>-28.046451</td>\n",
       "      <td>-28.960936</td>\n",
       "      <td>-30.471129</td>\n",
       "      <td>-31.240558</td>\n",
       "      <td>-31.137842</td>\n",
       "      <td>-30.859140</td>\n",
       "      <td>-27.515867</td>\n",
       "      <td>-24.861632</td>\n",
       "      <td>-22.271585</td>\n",
       "      <td>-18.418117</td>\n",
       "      <td>-14.657680</td>\n",
       "      <td>-10.762929</td>\n",
       "      <td>-10.826904</td>\n",
       "      <td>-6.575282</td>\n",
       "      <td>0.284318</td>\n",
       "      <td>6.680160</td>\n",
       "      <td>-1.403459</td>\n",
       "      <td>-10.845871</td>\n",
       "      <td>-14.449314</td>\n",
       "      <td>-14.659127</td>\n",
       "      <td>-14.163245</td>\n",
       "      <td>-22.361000</td>\n",
       "      <td>-24.319581</td>\n",
       "    </tr>\n",
       "    <tr>\n",
       "      <th>2011-06-05</th>\n",
       "      <td>-27.557757</td>\n",
       "      <td>-29.703400</td>\n",
       "      <td>-31.562509</td>\n",
       "      <td>-32.562599</td>\n",
       "      <td>-32.951071</td>\n",
       "      <td>-33.045199</td>\n",
       "      <td>-33.068355</td>\n",
       "      <td>-31.913587</td>\n",
       "      <td>-27.840519</td>\n",
       "      <td>-25.675838</td>\n",
       "      <td>-24.126758</td>\n",
       "      <td>-19.031608</td>\n",
       "      <td>-14.554913</td>\n",
       "      <td>-13.766494</td>\n",
       "      <td>-13.330964</td>\n",
       "      <td>-13.415738</td>\n",
       "      <td>-12.061264</td>\n",
       "      <td>-12.973500</td>\n",
       "      <td>-15.645611</td>\n",
       "      <td>-15.953418</td>\n",
       "      <td>-16.142896</td>\n",
       "      <td>-15.884407</td>\n",
       "      <td>-26.106242</td>\n",
       "      <td>-28.404272</td>\n",
       "    </tr>\n",
       "    <tr>\n",
       "      <th>...</th>\n",
       "      <td>...</td>\n",
       "      <td>...</td>\n",
       "      <td>...</td>\n",
       "      <td>...</td>\n",
       "      <td>...</td>\n",
       "      <td>...</td>\n",
       "      <td>...</td>\n",
       "      <td>...</td>\n",
       "      <td>...</td>\n",
       "      <td>...</td>\n",
       "      <td>...</td>\n",
       "      <td>...</td>\n",
       "      <td>...</td>\n",
       "      <td>...</td>\n",
       "      <td>...</td>\n",
       "      <td>...</td>\n",
       "      <td>...</td>\n",
       "      <td>...</td>\n",
       "      <td>...</td>\n",
       "      <td>...</td>\n",
       "      <td>...</td>\n",
       "      <td>...</td>\n",
       "      <td>...</td>\n",
       "      <td>...</td>\n",
       "    </tr>\n",
       "    <tr>\n",
       "      <th>2015-09-26</th>\n",
       "      <td>-16.426058</td>\n",
       "      <td>-17.781173</td>\n",
       "      <td>-19.659156</td>\n",
       "      <td>-21.074391</td>\n",
       "      <td>-21.103582</td>\n",
       "      <td>-18.777381</td>\n",
       "      <td>-16.727281</td>\n",
       "      <td>-16.053310</td>\n",
       "      <td>-14.495752</td>\n",
       "      <td>-12.402647</td>\n",
       "      <td>-10.292566</td>\n",
       "      <td>-8.407149</td>\n",
       "      <td>-7.689460</td>\n",
       "      <td>-9.760792</td>\n",
       "      <td>-9.488190</td>\n",
       "      <td>-10.151622</td>\n",
       "      <td>-10.272207</td>\n",
       "      <td>-10.407633</td>\n",
       "      <td>-10.947550</td>\n",
       "      <td>-5.793653</td>\n",
       "      <td>-6.893897</td>\n",
       "      <td>-13.095257</td>\n",
       "      <td>-15.066360</td>\n",
       "      <td>-17.732411</td>\n",
       "    </tr>\n",
       "    <tr>\n",
       "      <th>2015-09-27</th>\n",
       "      <td>-18.565160</td>\n",
       "      <td>-19.910245</td>\n",
       "      <td>-20.973159</td>\n",
       "      <td>-25.627012</td>\n",
       "      <td>-25.861108</td>\n",
       "      <td>-21.377593</td>\n",
       "      <td>-19.522084</td>\n",
       "      <td>-19.154951</td>\n",
       "      <td>-15.583094</td>\n",
       "      <td>-13.863163</td>\n",
       "      <td>-13.639633</td>\n",
       "      <td>-13.096076</td>\n",
       "      <td>-12.502660</td>\n",
       "      <td>-12.010562</td>\n",
       "      <td>-11.182279</td>\n",
       "      <td>-10.721611</td>\n",
       "      <td>-9.933730</td>\n",
       "      <td>-8.917052</td>\n",
       "      <td>-8.879152</td>\n",
       "      <td>0.490239</td>\n",
       "      <td>-5.343548</td>\n",
       "      <td>-11.506011</td>\n",
       "      <td>-14.367266</td>\n",
       "      <td>-15.751635</td>\n",
       "    </tr>\n",
       "    <tr>\n",
       "      <th>2015-09-28</th>\n",
       "      <td>-17.898630</td>\n",
       "      <td>-18.832778</td>\n",
       "      <td>-21.187438</td>\n",
       "      <td>-22.067027</td>\n",
       "      <td>-19.842876</td>\n",
       "      <td>-16.131329</td>\n",
       "      <td>-7.265417</td>\n",
       "      <td>-12.008179</td>\n",
       "      <td>-10.574477</td>\n",
       "      <td>-7.872097</td>\n",
       "      <td>-7.699632</td>\n",
       "      <td>-5.250486</td>\n",
       "      <td>-2.851990</td>\n",
       "      <td>-1.400285</td>\n",
       "      <td>1.595619</td>\n",
       "      <td>1.908829</td>\n",
       "      <td>3.199430</td>\n",
       "      <td>-2.116914</td>\n",
       "      <td>-4.568726</td>\n",
       "      <td>9.912183</td>\n",
       "      <td>1.515104</td>\n",
       "      <td>-7.422600</td>\n",
       "      <td>-12.607537</td>\n",
       "      <td>-14.788179</td>\n",
       "    </tr>\n",
       "    <tr>\n",
       "      <th>2015-09-29</th>\n",
       "      <td>-15.144227</td>\n",
       "      <td>-16.491377</td>\n",
       "      <td>-17.844075</td>\n",
       "      <td>-18.484959</td>\n",
       "      <td>-17.245916</td>\n",
       "      <td>-14.800875</td>\n",
       "      <td>-7.341166</td>\n",
       "      <td>-8.197177</td>\n",
       "      <td>-6.608038</td>\n",
       "      <td>-3.714770</td>\n",
       "      <td>3.475892</td>\n",
       "      <td>4.128017</td>\n",
       "      <td>6.400823</td>\n",
       "      <td>10.494673</td>\n",
       "      <td>10.502607</td>\n",
       "      <td>9.704785</td>\n",
       "      <td>7.185902</td>\n",
       "      <td>0.951869</td>\n",
       "      <td>-3.713491</td>\n",
       "      <td>13.803720</td>\n",
       "      <td>4.381308</td>\n",
       "      <td>-7.177922</td>\n",
       "      <td>-12.879400</td>\n",
       "      <td>-15.229323</td>\n",
       "    </tr>\n",
       "    <tr>\n",
       "      <th>2015-09-30</th>\n",
       "      <td>-14.456962</td>\n",
       "      <td>-15.780879</td>\n",
       "      <td>-16.935396</td>\n",
       "      <td>-18.207445</td>\n",
       "      <td>-16.490620</td>\n",
       "      <td>-14.181799</td>\n",
       "      <td>-4.549977</td>\n",
       "      <td>-2.800678</td>\n",
       "      <td>-0.666946</td>\n",
       "      <td>0.836744</td>\n",
       "      <td>5.082409</td>\n",
       "      <td>4.723671</td>\n",
       "      <td>4.061388</td>\n",
       "      <td>4.474652</td>\n",
       "      <td>2.833110</td>\n",
       "      <td>1.692821</td>\n",
       "      <td>0.454275</td>\n",
       "      <td>-4.186344</td>\n",
       "      <td>-5.311314</td>\n",
       "      <td>10.310829</td>\n",
       "      <td>0.499485</td>\n",
       "      <td>-10.630108</td>\n",
       "      <td>-13.751448</td>\n",
       "      <td>-16.587190</td>\n",
       "    </tr>\n",
       "  </tbody>\n",
       "</table>\n",
       "<p>1583 rows × 24 columns</p>\n",
       "</div>"
      ],
      "text/plain": [
       "                  HE1        HE2        HE3  ...       HE22       HE23       HE24\n",
       "Date                                         ...                                 \n",
       "2011-06-01 -20.812500 -19.457108 -24.186135  ...   7.736034 -11.416425 -19.980588\n",
       "2011-06-02 -25.218884 -25.206378 -26.457972  ... -13.247357 -22.083416 -26.084913\n",
       "2011-06-03 -26.991493 -28.650083 -31.719158  ... -16.455023 -19.664864 -23.092295\n",
       "2011-06-04 -27.275601 -28.046451 -28.960936  ... -14.163245 -22.361000 -24.319581\n",
       "2011-06-05 -27.557757 -29.703400 -31.562509  ... -15.884407 -26.106242 -28.404272\n",
       "...               ...        ...        ...  ...        ...        ...        ...\n",
       "2015-09-26 -16.426058 -17.781173 -19.659156  ... -13.095257 -15.066360 -17.732411\n",
       "2015-09-27 -18.565160 -19.910245 -20.973159  ... -11.506011 -14.367266 -15.751635\n",
       "2015-09-28 -17.898630 -18.832778 -21.187438  ...  -7.422600 -12.607537 -14.788179\n",
       "2015-09-29 -15.144227 -16.491377 -17.844075  ...  -7.177922 -12.879400 -15.229323\n",
       "2015-09-30 -14.456962 -15.780879 -16.935396  ... -10.630108 -13.751448 -16.587190\n",
       "\n",
       "[1583 rows x 24 columns]"
      ]
     },
     "execution_count": 10,
     "metadata": {
      "tags": []
     },
     "output_type": "execute_result"
    }
   ],
   "source": [
    "heatrate=10.5\n",
    "vomcost=5\n",
    "gasadder=0.3\n",
    "for i in df1.index:\n",
    "    gasprice=df2.loc[i][0]\n",
    "    for j in range(0,24):\n",
    "        powerprice=df1.loc[i][j]\n",
    "        headroom=powerprice-(gasprice+gasadder)*heatrate-vomcost\n",
    "        df.loc[i][j]=headroom\n",
    "        \n",
    "df"
   ]
  },
  {
   "cell_type": "markdown",
   "metadata": {
    "id": "7cAeEsiR1jnm"
   },
   "source": [
    "# ***Version 1***"
   ]
  },
  {
   "cell_type": "markdown",
   "metadata": {
    "id": "_JFJ1y14s0VK"
   },
   "source": [
    "## First of all, we are not considering turn on/off by hour, instead by day"
   ]
  },
  {
   "cell_type": "code",
   "execution_count": 11,
   "metadata": {
    "id": "l5y0hKPe1jnm"
   },
   "outputs": [],
   "source": [
    "#daily revenue\n",
    "drev=[]\n",
    "for i in df.index:\n",
    "    rev=sum(df.loc[i])*200-10000\n",
    "    drev.append(rev)"
   ]
  },
  {
   "cell_type": "code",
   "execution_count": 12,
   "metadata": {
    "colab": {
     "base_uri": "https://localhost:8080/",
     "height": 293
    },
    "id": "6QM_YSJC1jnm",
    "outputId": "eb87e10d-45ee-4bf8-e2eb-306242e5b52c"
   },
   "outputs": [
    {
     "data": {
      "text/plain": [
       "-107469032.13389996"
      ]
     },
     "execution_count": 12,
     "metadata": {
      "tags": []
     },
     "output_type": "execute_result"
    },
    {
     "data": {
      "image/png": "[encoded data removed]",
      "text/plain": [
       "<Figure size 432x288 with 1 Axes>"
      ]
     },
     "metadata": {
      "needs_background": "light",
      "tags": []
     },
     "output_type": "display_data"
    }
   ],
   "source": [
    "plt.plot(drev)\n",
    "sum(drev)"
   ]
  },
  {
   "cell_type": "code",
   "execution_count": 13,
   "metadata": {
    "id": "rljgxkw71jnm"
   },
   "outputs": [],
   "source": [
    "df['Bydayrev']=drev\n",
    "df['Bydayrev']=df['Bydayrev']+10000"
   ]
  },
  {
   "cell_type": "code",
   "execution_count": 14,
   "metadata": {
    "id": "9jXkH0Zp1jnn"
   },
   "outputs": [],
   "source": [
    "#df.to_excel('Project3Headroom',sheet_name='Headroom') "
   ]
  },
  {
   "cell_type": "code",
   "execution_count": 15,
   "metadata": {
    "id": "tdVmVL9P1jnn"
   },
   "outputs": [],
   "source": [
    "df['Newrev']=np.nan\n",
    "df['Turnon']=''"
   ]
  },
  {
   "cell_type": "code",
   "execution_count": 16,
   "metadata": {
    "id": "3CSY-9fO1jnn"
   },
   "outputs": [],
   "source": [
    "df['Newrev'][0]=df.loc['2011-06-01']['Bydayrev']-10000"
   ]
  },
  {
   "cell_type": "code",
   "execution_count": 17,
   "metadata": {
    "id": "HNFk_SQw1jnn"
   },
   "outputs": [],
   "source": [
    "df['Turnon'][0]='On'"
   ]
  },
  {
   "cell_type": "code",
   "execution_count": 18,
   "metadata": {
    "colab": {
     "base_uri": "https://localhost:8080/",
     "height": 640
    },
    "id": "6DSDWxo61jnn",
    "outputId": "ea5ec2f5-7b05-4534-f415-3f1371c6d152"
   },
   "outputs": [
    {
     "data": {
      "text/html": [
       "<div>\n",
       "<style scoped>\n",
       "    .dataframe tbody tr th:only-of-type {\n",
       "        vertical-align: middle;\n",
       "    }\n",
       "\n",
       "    .dataframe tbody tr th {\n",
       "        vertical-align: top;\n",
       "    }\n",
       "\n",
       "    .dataframe thead th {\n",
       "        text-align: right;\n",
       "    }\n",
       "</style>\n",
       "<table border=\"1\" class=\"dataframe\">\n",
       "  <thead>\n",
       "    <tr style=\"text-align: right;\">\n",
       "      <th></th>\n",
       "      <th>HE1</th>\n",
       "      <th>HE2</th>\n",
       "      <th>HE3</th>\n",
       "      <th>HE4</th>\n",
       "      <th>HE5</th>\n",
       "      <th>HE6</th>\n",
       "      <th>HE7</th>\n",
       "      <th>HE8</th>\n",
       "      <th>HE9</th>\n",
       "      <th>HE10</th>\n",
       "      <th>HE11</th>\n",
       "      <th>HE12</th>\n",
       "      <th>HE13</th>\n",
       "      <th>HE14</th>\n",
       "      <th>HE15</th>\n",
       "      <th>HE16</th>\n",
       "      <th>HE17</th>\n",
       "      <th>HE18</th>\n",
       "      <th>HE19</th>\n",
       "      <th>HE20</th>\n",
       "      <th>HE21</th>\n",
       "      <th>HE22</th>\n",
       "      <th>HE23</th>\n",
       "      <th>HE24</th>\n",
       "      <th>Bydayrev</th>\n",
       "      <th>Newrev</th>\n",
       "      <th>Turnon</th>\n",
       "    </tr>\n",
       "    <tr>\n",
       "      <th>Date</th>\n",
       "      <th></th>\n",
       "      <th></th>\n",
       "      <th></th>\n",
       "      <th></th>\n",
       "      <th></th>\n",
       "      <th></th>\n",
       "      <th></th>\n",
       "      <th></th>\n",
       "      <th></th>\n",
       "      <th></th>\n",
       "      <th></th>\n",
       "      <th></th>\n",
       "      <th></th>\n",
       "      <th></th>\n",
       "      <th></th>\n",
       "      <th></th>\n",
       "      <th></th>\n",
       "      <th></th>\n",
       "      <th></th>\n",
       "      <th></th>\n",
       "      <th></th>\n",
       "      <th></th>\n",
       "      <th></th>\n",
       "      <th></th>\n",
       "      <th></th>\n",
       "      <th></th>\n",
       "      <th></th>\n",
       "    </tr>\n",
       "  </thead>\n",
       "  <tbody>\n",
       "    <tr>\n",
       "      <th>2011-06-01</th>\n",
       "      <td>-20.812500</td>\n",
       "      <td>-19.457108</td>\n",
       "      <td>-24.186135</td>\n",
       "      <td>-27.758485</td>\n",
       "      <td>-27.468145</td>\n",
       "      <td>-25.346950</td>\n",
       "      <td>-20.501858</td>\n",
       "      <td>-7.200196</td>\n",
       "      <td>0.507429</td>\n",
       "      <td>9.014985</td>\n",
       "      <td>22.804623</td>\n",
       "      <td>25.953991</td>\n",
       "      <td>30.513655</td>\n",
       "      <td>43.905757</td>\n",
       "      <td>53.265224</td>\n",
       "      <td>65.741782</td>\n",
       "      <td>63.015113</td>\n",
       "      <td>39.606217</td>\n",
       "      <td>25.056777</td>\n",
       "      <td>15.974159</td>\n",
       "      <td>14.636345</td>\n",
       "      <td>7.736034</td>\n",
       "      <td>-11.416425</td>\n",
       "      <td>-19.980588</td>\n",
       "      <td>42720.7402</td>\n",
       "      <td>32720.7402</td>\n",
       "      <td>On</td>\n",
       "    </tr>\n",
       "    <tr>\n",
       "      <th>2011-06-02</th>\n",
       "      <td>-25.218884</td>\n",
       "      <td>-25.206378</td>\n",
       "      <td>-26.457972</td>\n",
       "      <td>-27.538141</td>\n",
       "      <td>-26.785913</td>\n",
       "      <td>-25.670341</td>\n",
       "      <td>-22.502181</td>\n",
       "      <td>-18.516217</td>\n",
       "      <td>-16.501478</td>\n",
       "      <td>-12.138459</td>\n",
       "      <td>-7.068831</td>\n",
       "      <td>-5.098660</td>\n",
       "      <td>-3.242621</td>\n",
       "      <td>2.449430</td>\n",
       "      <td>5.631427</td>\n",
       "      <td>9.163878</td>\n",
       "      <td>8.939757</td>\n",
       "      <td>1.930982</td>\n",
       "      <td>-5.511231</td>\n",
       "      <td>-9.359578</td>\n",
       "      <td>-8.486314</td>\n",
       "      <td>-13.247357</td>\n",
       "      <td>-22.083416</td>\n",
       "      <td>-26.084913</td>\n",
       "      <td>-59720.6822</td>\n",
       "      <td>NaN</td>\n",
       "      <td></td>\n",
       "    </tr>\n",
       "    <tr>\n",
       "      <th>2011-06-03</th>\n",
       "      <td>-26.991493</td>\n",
       "      <td>-28.650083</td>\n",
       "      <td>-31.719158</td>\n",
       "      <td>-32.471949</td>\n",
       "      <td>-31.824182</td>\n",
       "      <td>-28.783153</td>\n",
       "      <td>-25.467914</td>\n",
       "      <td>-21.639529</td>\n",
       "      <td>-20.248394</td>\n",
       "      <td>-19.049522</td>\n",
       "      <td>-13.992464</td>\n",
       "      <td>-9.758220</td>\n",
       "      <td>-4.159506</td>\n",
       "      <td>-1.376489</td>\n",
       "      <td>1.435871</td>\n",
       "      <td>6.395930</td>\n",
       "      <td>8.947932</td>\n",
       "      <td>4.149124</td>\n",
       "      <td>-6.574719</td>\n",
       "      <td>-13.289861</td>\n",
       "      <td>-14.086831</td>\n",
       "      <td>-16.455023</td>\n",
       "      <td>-19.664864</td>\n",
       "      <td>-23.092295</td>\n",
       "      <td>-73673.3584</td>\n",
       "      <td>NaN</td>\n",
       "      <td></td>\n",
       "    </tr>\n",
       "    <tr>\n",
       "      <th>2011-06-04</th>\n",
       "      <td>-27.275601</td>\n",
       "      <td>-28.046451</td>\n",
       "      <td>-28.960936</td>\n",
       "      <td>-30.471129</td>\n",
       "      <td>-31.240558</td>\n",
       "      <td>-31.137842</td>\n",
       "      <td>-30.859140</td>\n",
       "      <td>-27.515867</td>\n",
       "      <td>-24.861632</td>\n",
       "      <td>-22.271585</td>\n",
       "      <td>-18.418117</td>\n",
       "      <td>-14.657680</td>\n",
       "      <td>-10.762929</td>\n",
       "      <td>-10.826904</td>\n",
       "      <td>-6.575282</td>\n",
       "      <td>0.284318</td>\n",
       "      <td>6.680160</td>\n",
       "      <td>-1.403459</td>\n",
       "      <td>-10.845871</td>\n",
       "      <td>-14.449314</td>\n",
       "      <td>-14.659127</td>\n",
       "      <td>-14.163245</td>\n",
       "      <td>-22.361000</td>\n",
       "      <td>-24.319581</td>\n",
       "      <td>-87823.7544</td>\n",
       "      <td>NaN</td>\n",
       "      <td></td>\n",
       "    </tr>\n",
       "    <tr>\n",
       "      <th>2011-06-05</th>\n",
       "      <td>-27.557757</td>\n",
       "      <td>-29.703400</td>\n",
       "      <td>-31.562509</td>\n",
       "      <td>-32.562599</td>\n",
       "      <td>-32.951071</td>\n",
       "      <td>-33.045199</td>\n",
       "      <td>-33.068355</td>\n",
       "      <td>-31.913587</td>\n",
       "      <td>-27.840519</td>\n",
       "      <td>-25.675838</td>\n",
       "      <td>-24.126758</td>\n",
       "      <td>-19.031608</td>\n",
       "      <td>-14.554913</td>\n",
       "      <td>-13.766494</td>\n",
       "      <td>-13.330964</td>\n",
       "      <td>-13.415738</td>\n",
       "      <td>-12.061264</td>\n",
       "      <td>-12.973500</td>\n",
       "      <td>-15.645611</td>\n",
       "      <td>-15.953418</td>\n",
       "      <td>-16.142896</td>\n",
       "      <td>-15.884407</td>\n",
       "      <td>-26.106242</td>\n",
       "      <td>-28.404272</td>\n",
       "      <td>-109455.7838</td>\n",
       "      <td>NaN</td>\n",
       "      <td></td>\n",
       "    </tr>\n",
       "    <tr>\n",
       "      <th>...</th>\n",
       "      <td>...</td>\n",
       "      <td>...</td>\n",
       "      <td>...</td>\n",
       "      <td>...</td>\n",
       "      <td>...</td>\n",
       "      <td>...</td>\n",
       "      <td>...</td>\n",
       "      <td>...</td>\n",
       "      <td>...</td>\n",
       "      <td>...</td>\n",
       "      <td>...</td>\n",
       "      <td>...</td>\n",
       "      <td>...</td>\n",
       "      <td>...</td>\n",
       "      <td>...</td>\n",
       "      <td>...</td>\n",
       "      <td>...</td>\n",
       "      <td>...</td>\n",
       "      <td>...</td>\n",
       "      <td>...</td>\n",
       "      <td>...</td>\n",
       "      <td>...</td>\n",
       "      <td>...</td>\n",
       "      <td>...</td>\n",
       "      <td>...</td>\n",
       "      <td>...</td>\n",
       "      <td>...</td>\n",
       "    </tr>\n",
       "    <tr>\n",
       "      <th>2015-09-26</th>\n",
       "      <td>-16.426058</td>\n",
       "      <td>-17.781173</td>\n",
       "      <td>-19.659156</td>\n",
       "      <td>-21.074391</td>\n",
       "      <td>-21.103582</td>\n",
       "      <td>-18.777381</td>\n",
       "      <td>-16.727281</td>\n",
       "      <td>-16.053310</td>\n",
       "      <td>-14.495752</td>\n",
       "      <td>-12.402647</td>\n",
       "      <td>-10.292566</td>\n",
       "      <td>-8.407149</td>\n",
       "      <td>-7.689460</td>\n",
       "      <td>-9.760792</td>\n",
       "      <td>-9.488190</td>\n",
       "      <td>-10.151622</td>\n",
       "      <td>-10.272207</td>\n",
       "      <td>-10.407633</td>\n",
       "      <td>-10.947550</td>\n",
       "      <td>-5.793653</td>\n",
       "      <td>-6.893897</td>\n",
       "      <td>-13.095257</td>\n",
       "      <td>-15.066360</td>\n",
       "      <td>-17.732411</td>\n",
       "      <td>-64099.8956</td>\n",
       "      <td>NaN</td>\n",
       "      <td></td>\n",
       "    </tr>\n",
       "    <tr>\n",
       "      <th>2015-09-27</th>\n",
       "      <td>-18.565160</td>\n",
       "      <td>-19.910245</td>\n",
       "      <td>-20.973159</td>\n",
       "      <td>-25.627012</td>\n",
       "      <td>-25.861108</td>\n",
       "      <td>-21.377593</td>\n",
       "      <td>-19.522084</td>\n",
       "      <td>-19.154951</td>\n",
       "      <td>-15.583094</td>\n",
       "      <td>-13.863163</td>\n",
       "      <td>-13.639633</td>\n",
       "      <td>-13.096076</td>\n",
       "      <td>-12.502660</td>\n",
       "      <td>-12.010562</td>\n",
       "      <td>-11.182279</td>\n",
       "      <td>-10.721611</td>\n",
       "      <td>-9.933730</td>\n",
       "      <td>-8.917052</td>\n",
       "      <td>-8.879152</td>\n",
       "      <td>0.490239</td>\n",
       "      <td>-5.343548</td>\n",
       "      <td>-11.506011</td>\n",
       "      <td>-14.367266</td>\n",
       "      <td>-15.751635</td>\n",
       "      <td>-69559.7090</td>\n",
       "      <td>NaN</td>\n",
       "      <td></td>\n",
       "    </tr>\n",
       "    <tr>\n",
       "      <th>2015-09-28</th>\n",
       "      <td>-17.898630</td>\n",
       "      <td>-18.832778</td>\n",
       "      <td>-21.187438</td>\n",
       "      <td>-22.067027</td>\n",
       "      <td>-19.842876</td>\n",
       "      <td>-16.131329</td>\n",
       "      <td>-7.265417</td>\n",
       "      <td>-12.008179</td>\n",
       "      <td>-10.574477</td>\n",
       "      <td>-7.872097</td>\n",
       "      <td>-7.699632</td>\n",
       "      <td>-5.250486</td>\n",
       "      <td>-2.851990</td>\n",
       "      <td>-1.400285</td>\n",
       "      <td>1.595619</td>\n",
       "      <td>1.908829</td>\n",
       "      <td>3.199430</td>\n",
       "      <td>-2.116914</td>\n",
       "      <td>-4.568726</td>\n",
       "      <td>9.912183</td>\n",
       "      <td>1.515104</td>\n",
       "      <td>-7.422600</td>\n",
       "      <td>-12.607537</td>\n",
       "      <td>-14.788179</td>\n",
       "      <td>-38851.0864</td>\n",
       "      <td>NaN</td>\n",
       "      <td></td>\n",
       "    </tr>\n",
       "    <tr>\n",
       "      <th>2015-09-29</th>\n",
       "      <td>-15.144227</td>\n",
       "      <td>-16.491377</td>\n",
       "      <td>-17.844075</td>\n",
       "      <td>-18.484959</td>\n",
       "      <td>-17.245916</td>\n",
       "      <td>-14.800875</td>\n",
       "      <td>-7.341166</td>\n",
       "      <td>-8.197177</td>\n",
       "      <td>-6.608038</td>\n",
       "      <td>-3.714770</td>\n",
       "      <td>3.475892</td>\n",
       "      <td>4.128017</td>\n",
       "      <td>6.400823</td>\n",
       "      <td>10.494673</td>\n",
       "      <td>10.502607</td>\n",
       "      <td>9.704785</td>\n",
       "      <td>7.185902</td>\n",
       "      <td>0.951869</td>\n",
       "      <td>-3.713491</td>\n",
       "      <td>13.803720</td>\n",
       "      <td>4.381308</td>\n",
       "      <td>-7.177922</td>\n",
       "      <td>-12.879400</td>\n",
       "      <td>-15.229323</td>\n",
       "      <td>-18768.6240</td>\n",
       "      <td>NaN</td>\n",
       "      <td></td>\n",
       "    </tr>\n",
       "    <tr>\n",
       "      <th>2015-09-30</th>\n",
       "      <td>-14.456962</td>\n",
       "      <td>-15.780879</td>\n",
       "      <td>-16.935396</td>\n",
       "      <td>-18.207445</td>\n",
       "      <td>-16.490620</td>\n",
       "      <td>-14.181799</td>\n",
       "      <td>-4.549977</td>\n",
       "      <td>-2.800678</td>\n",
       "      <td>-0.666946</td>\n",
       "      <td>0.836744</td>\n",
       "      <td>5.082409</td>\n",
       "      <td>4.723671</td>\n",
       "      <td>4.061388</td>\n",
       "      <td>4.474652</td>\n",
       "      <td>2.833110</td>\n",
       "      <td>1.692821</td>\n",
       "      <td>0.454275</td>\n",
       "      <td>-4.186344</td>\n",
       "      <td>-5.311314</td>\n",
       "      <td>10.310829</td>\n",
       "      <td>0.499485</td>\n",
       "      <td>-10.630108</td>\n",
       "      <td>-13.751448</td>\n",
       "      <td>-16.587190</td>\n",
       "      <td>-23913.5444</td>\n",
       "      <td>NaN</td>\n",
       "      <td></td>\n",
       "    </tr>\n",
       "  </tbody>\n",
       "</table>\n",
       "<p>1583 rows × 27 columns</p>\n",
       "</div>"
      ],
      "text/plain": [
       "                  HE1        HE2        HE3  ...     Bydayrev      Newrev  Turnon\n",
       "Date                                         ...                                 \n",
       "2011-06-01 -20.812500 -19.457108 -24.186135  ...   42720.7402  32720.7402      On\n",
       "2011-06-02 -25.218884 -25.206378 -26.457972  ...  -59720.6822         NaN        \n",
       "2011-06-03 -26.991493 -28.650083 -31.719158  ...  -73673.3584         NaN        \n",
       "2011-06-04 -27.275601 -28.046451 -28.960936  ...  -87823.7544         NaN        \n",
       "2011-06-05 -27.557757 -29.703400 -31.562509  ... -109455.7838         NaN        \n",
       "...               ...        ...        ...  ...          ...         ...     ...\n",
       "2015-09-26 -16.426058 -17.781173 -19.659156  ...  -64099.8956         NaN        \n",
       "2015-09-27 -18.565160 -19.910245 -20.973159  ...  -69559.7090         NaN        \n",
       "2015-09-28 -17.898630 -18.832778 -21.187438  ...  -38851.0864         NaN        \n",
       "2015-09-29 -15.144227 -16.491377 -17.844075  ...  -18768.6240         NaN        \n",
       "2015-09-30 -14.456962 -15.780879 -16.935396  ...  -23913.5444         NaN        \n",
       "\n",
       "[1583 rows x 27 columns]"
      ]
     },
     "execution_count": 18,
     "metadata": {
      "tags": []
     },
     "output_type": "execute_result"
    }
   ],
   "source": [
    "df"
   ]
  },
  {
   "cell_type": "markdown",
   "metadata": {
    "id": "DvT6EK8MtkSM"
   },
   "source": [
    "## Filter the revenue。 if the next day's profit is positive，then we'll stay on. if the next day's profit is negative, then we'll turn it off. "
   ]
  },
  {
   "cell_type": "code",
   "execution_count": 19,
   "metadata": {
    "id": "kw5myyEj1jno"
   },
   "outputs": [],
   "source": [
    "for i in range(1,len(df['Bydayrev'])):\n",
    "    if df['Bydayrev'][i]>=10000:\n",
    "        if df['Turnon'][i-1]=='On':\n",
    "            df['Newrev'][i]=df['Bydayrev'][i]\n",
    "            df['Turnon'][i]='Off'\n",
    "        elif df['Turnon'][i-1]=='Off':\n",
    "            df['Newrev'][i]=df['Bydayrev'][i]-10000\n",
    "            df['Turnon'][i]='On'\n",
    "    elif df['Bydayrev'][i]>=0:\n",
    "        if df['Turnon'][i-1]=='On':\n",
    "            df['Newrev'][i]=df['Bydayrev'][i]\n",
    "            df['Turnon'][i]='Off'\n",
    "        elif df['Turnon'][i-1]=='Off':\n",
    "            df['Newrev'][i]=0\n",
    "            df['Turnon'][i]='Off'\n",
    "    elif df['Bydayrev'][i]<0:\n",
    "        df['Newrev'][i]=0\n",
    "        df['Turnon'][i]='Off'"
   ]
  },
  {
   "cell_type": "code",
   "execution_count": 20,
   "metadata": {
    "colab": {
     "base_uri": "https://localhost:8080/",
     "height": 282
    },
    "id": "lgZvVU361jno",
    "outputId": "6ec60060-6d52-419a-810d-8278fec63c2a"
   },
   "outputs": [
    {
     "data": {
      "text/plain": [
       "9919193.883800004"
      ]
     },
     "execution_count": 20,
     "metadata": {
      "tags": []
     },
     "output_type": "execute_result"
    },
    {
     "data": {
      "image/png": "[encoded data removed]",
      "text/plain": [
       "<Figure size 432x288 with 1 Axes>"
      ]
     },
     "metadata": {
      "needs_background": "light",
      "tags": []
     },
     "output_type": "display_data"
    }
   ],
   "source": [
    "plt.plot(df['Newrev'])\n",
    "sum(df['Newrev'])"
   ]
  },
  {
   "cell_type": "markdown",
   "metadata": {
    "id": "7_-_iP501jno"
   },
   "source": [
    "#Therefore, if we robustly turn on or off by day [min hour=24, max hour=24x], we can at least secure \\$10m revenue. \n",
    "#now, start thinking about hourly [min hour=16, max hou=inf] and improve upon \"\\$9.92mil\""
   ]
  },
  {
   "cell_type": "markdown",
   "metadata": {
    "id": "U5ivTyi3lWp3"
   },
   "source": [
    "# **Version 2**\n"
   ]
  },
  {
   "cell_type": "markdown",
   "metadata": {
    "id": "hvVUuIBzsnUN"
   },
   "source": [
    " ## Create Headroom as a list we don't really care about which day exactly when to turn on and off,as long as the time period can be connected together , so we look at the data as 1583*24hour, what we need to do is just find out the profit period(lasting hour>=16)"
   ]
  },
  {
   "cell_type": "code",
   "execution_count": 21,
   "metadata": {
    "id": "Mr0ntdPw1jno"
   },
   "outputs": [],
   "source": [
    "heatrate=10.5\n",
    "vomcost=5\n",
    "gasadder=0.3\n",
    "hrlist=[]\n",
    "for i in df1.index:\n",
    "    gasprice=df2.loc[i][0]\n",
    "    for j in range(0,24):\n",
    "        powerprice=df1.loc[i][j]\n",
    "        headroom=powerprice-(gasprice+gasadder)*heatrate-vomcost\n",
    "        hrlist.append(headroom)"
   ]
  },
  {
   "cell_type": "code",
   "execution_count": 22,
   "metadata": {
    "colab": {
     "base_uri": "https://localhost:8080/"
    },
    "id": "C8AbrmY1lrn_",
    "outputId": "54c12161-6a64-447c-cc1d-41247f058f1f"
   },
   "outputs": [
    {
     "data": {
      "text/plain": [
       "1583.0"
      ]
     },
     "execution_count": 22,
     "metadata": {
      "tags": []
     },
     "output_type": "execute_result"
    }
   ],
   "source": [
    "len(hrlist)/24"
   ]
  },
  {
   "cell_type": "code",
   "execution_count": 73,
   "metadata": {
    "id": "fEoFN1E9lsnB"
   },
   "outputs": [],
   "source": [
    "minhour=16\n",
    "\n",
    "def openorclose(hrlist):\n",
    "  currenthour=0\n",
    "  currentstart=0\n",
    "  currentend=0\n",
    "  currentstatus=False #False represents OFF, True represents On\n",
    "  headroomtotal=0\n",
    "  i=0\n",
    "  startup=0\n",
    "  allist=[]\n",
    "  proflist=[]\n",
    "  while i<=len(hrlist):\n",
    "\n",
    "    while currentstatus==False: \n",
    "      if hrlist[i]>=0:\n",
    "        currentstart=i\n",
    "        currenthour+=1\n",
    "        currentstatus=True\n",
    "        i+=1\n",
    "      else:\n",
    "        i+=1\n",
    "\n",
    "    if i+16>len(hrlist):\n",
    "      if currentend+16>=len(hrlist) and sum(hrlist[currenthour:])*200>0:\n",
    "        headroomtotal+=(sum(hrlist[currenthour:])*200)\n",
    "        proflist[-1]+=(sum(hrlist[currenthour:])*200)\n",
    "        allist[-1]+=(sum(hrlist[currenthour:])*200)\n",
    "        return (headroomtotal-startup*10000,allist,proflist)\n",
    "      elif currentend+16<len(hrlist) and sum(hrlist[-16:])*200>10000:\n",
    "        headroomtotal+=(sum(hrlist[-16:])*200)\n",
    "        proflist.append(sum(hrlist[-16:])*200)\n",
    "        allist.append(sum(hrlist[-16:])*200)\n",
    "        startup+=1\n",
    "        return (headroomtotal-startup*10000,allist,proflist)\n",
    "      else:\n",
    "        return (headroomtotal-startup*10000,allist,proflist)\n",
    "\n",
    "    while currentstatus==True: \n",
    "      if currenthour<=16:\n",
    "        currenthour+=1\n",
    "        i+=1\n",
    "      elif currenthour>16 and hrlist[i]>=0:\n",
    "        currenthour+=1\n",
    "        i+=1\n",
    "      elif currenthour>16 and hrlist[i]<0:\n",
    "        currentend=i-1\n",
    "        currentstatus=False\n",
    "    \n",
    "    if (sum(hrlist[currentstart:currentend])*200)>10000:\n",
    "      startup+=1\n",
    "      headroomtotal+=(sum(hrlist[currentstart:currentend])*200)\n",
    "      proflist.append((sum(hrlist[currentstart:currentend])*200))\n",
    "    allist.append((sum(hrlist[currentstart:currentend])*200))\n",
    "    currenthour=0\n",
    " \n",
    "  return (headroomtotal-startup*10000,allist,proflist)"
   ]
  },
  {
   "cell_type": "code",
   "execution_count": 74,
   "metadata": {
    "id": "GrNtRpAFmXZx"
   },
   "outputs": [],
   "source": [
    "a,b,c=openorclose(hrlist)"
   ]
  },
  {
   "cell_type": "code",
   "execution_count": 75,
   "metadata": {
    "colab": {
     "base_uri": "https://localhost:8080/"
    },
    "id": "9Pb9_CSdxmdD",
    "outputId": "39a88dce-a8bd-444a-c402-d48c391d3e69"
   },
   "outputs": [
    {
     "data": {
      "text/plain": [
       "(11940630.7618, 2021436.8779999968)"
      ]
     },
     "execution_count": 75,
     "metadata": {
      "tags": []
     },
     "output_type": "execute_result"
    }
   ],
   "source": [
    "a,a-sum(df['Newrev'])"
   ]
  },
  {
   "cell_type": "code",
   "execution_count": 76,
   "metadata": {
    "colab": {
     "base_uri": "https://localhost:8080/",
     "height": 293
    },
    "id": "91Tyk5B2mSto",
    "outputId": "5aaf6661-d493-471e-d808-ed58213544a9"
   },
   "outputs": [
    {
     "data": {
      "text/plain": [
       "[<matplotlib.lines.Line2D at 0x7f480db9f590>]"
      ]
     },
     "execution_count": 76,
     "metadata": {
      "tags": []
     },
     "output_type": "execute_result"
    },
    {
     "data": {
      "image/png": "[encoded data removed]",
      "text/plain": [
       "<Figure size 432x288 with 1 Axes>"
      ]
     },
     "metadata": {
      "needs_background": "light",
      "tags": []
     },
     "output_type": "display_data"
    }
   ],
   "source": [
    "plt.plot(b)"
   ]
  },
  {
   "cell_type": "code",
   "execution_count": 77,
   "metadata": {
    "colab": {
     "base_uri": "https://localhost:8080/",
     "height": 293
    },
    "id": "kHfEk79mmDei",
    "outputId": "4d6336f9-63ae-4c11-a3a5-d0459289d81a"
   },
   "outputs": [
    {
     "data": {
      "text/plain": [
       "[<matplotlib.lines.Line2D at 0x7f480db69550>]"
      ]
     },
     "execution_count": 77,
     "metadata": {
      "tags": []
     },
     "output_type": "execute_result"
    },
    {
     "data": {
      "image/png": "[encoded data removed]",
      "text/plain": [
       "<Figure size 432x288 with 1 Axes>"
      ]
     },
     "metadata": {
      "needs_background": "light",
      "tags": []
     },
     "output_type": "display_data"
    }
   ],
   "source": [
    "plt.plot(c)"
   ]
  },
  {
   "cell_type": "markdown",
   "metadata": {
    "id": "Ljq7tLTuuwG5"
   },
   "source": [
    "#after a more detailed filter, we improve our profit by 2.02mil to 11.94mil.\n"
   ]
  },
  {
   "cell_type": "code",
   "execution_count": 78,
   "metadata": {
    "colab": {
     "base_uri": "https://localhost:8080/"
    },
    "id": "ciXw_BQarlR4",
    "outputId": "a4ae92f7-7e55-4a68-be62-eb83dddf5a38"
   },
   "outputs": [
    {
     "data": {
      "text/plain": [
       "(-16.163966, -2.3774539999999966, 6.824017000000005, 3.2723260000000067)"
      ]
     },
     "execution_count": 78,
     "metadata": {
      "tags": []
     },
     "output_type": "execute_result"
    }
   ],
   "source": [
    "sum(hrlist[-16:]),sum(hrlist[-17:-1]),sum(hrlist[-18:-2]),sum(hrlist[-19:-3])"
   ]
  },
  {
   "cell_type": "code",
   "execution_count": 79,
   "metadata": {
    "colab": {
     "base_uri": "https://localhost:8080/"
    },
    "id": "pN3JNekycjAt",
    "outputId": "126ec6e8-de76-4351-a3b5-257eac806f6a"
   },
   "outputs": [
    {
     "data": {
      "text/plain": [
       "[[-0.6669460000000029,\n",
       "  0.836744000000003,\n",
       "  5.082408999999998,\n",
       "  4.723671000000003,\n",
       "  4.061388000000001,\n",
       "  4.474651999999999,\n",
       "  2.833109999999998,\n",
       "  1.6928210000000021,\n",
       "  0.45427500000000265,\n",
       "  -4.186343999999998,\n",
       "  -5.311314000000003,\n",
       "  10.310828999999998,\n",
       "  0.49948499999999996,\n",
       "  -10.630108,\n",
       "  -13.751448,\n",
       "  -16.58719],\n",
       " [-2.800677999999998,\n",
       "  -0.6669460000000029,\n",
       "  0.836744000000003,\n",
       "  5.082408999999998,\n",
       "  4.723671000000003,\n",
       "  4.061388000000001,\n",
       "  4.474651999999999,\n",
       "  2.833109999999998,\n",
       "  1.6928210000000021,\n",
       "  0.45427500000000265,\n",
       "  -4.186343999999998,\n",
       "  -5.311314000000003,\n",
       "  10.310828999999998,\n",
       "  0.49948499999999996,\n",
       "  -10.630108,\n",
       "  -13.751448],\n",
       " [-0.6669460000000029,\n",
       "  0.836744000000003,\n",
       "  5.082408999999998,\n",
       "  4.723671000000003,\n",
       "  4.061388000000001,\n",
       "  4.474651999999999,\n",
       "  2.833109999999998,\n",
       "  1.6928210000000021,\n",
       "  0.45427500000000265,\n",
       "  -4.186343999999998,\n",
       "  -5.311314000000003,\n",
       "  10.310828999999998,\n",
       "  0.49948499999999996,\n",
       "  -10.630108]]"
      ]
     },
     "execution_count": 79,
     "metadata": {
      "tags": []
     },
     "output_type": "execute_result"
    }
   ],
   "source": [
    "[hrlist[-16:],hrlist[-17:-1],hrlist[-16:-2]]"
   ]
  },
  {
   "cell_type": "markdown",
   "metadata": {
    "id": "espbcCe-q3S-"
   },
   "source": [
    "#As we can see in the screenshot above, we can still improve our profit by shift or extend the “ON” period to escape from a heavier loss and use a lighter loss to replace it. "
   ]
  },
  {
   "cell_type": "markdown",
   "metadata": {
    "id": "tk-8inKerJuG"
   },
   "source": [
    "#*Version 3*"
   ]
  },
  {
   "cell_type": "markdown",
   "metadata": {
    "id": "Fh3ghYP9wc_n"
   },
   "source": [
    "##find all possible periods with positive headroom, doesn't care about the profit."
   ]
  },
  {
   "cell_type": "code",
   "execution_count": 80,
   "metadata": {
    "id": "Tbu-K6V8f5Zf"
   },
   "outputs": [],
   "source": [
    "def allpositive(hrlist):\n",
    "  currenthour=0\n",
    "  currentstart=0\n",
    "  currentend=0\n",
    "  currentstatus=False #False represents OFF, True represents On\n",
    "  i=0\n",
    "  allpos=[]\n",
    "  while i<=len(hrlist):\n",
    "\n",
    "    while currentstatus==False:\n",
    "      if hrlist[i]>=0:\n",
    "        currentstart=i\n",
    "        currenthour+=1\n",
    "        currentstatus=True\n",
    "        i+=1\n",
    "      else:\n",
    "        i+=1\n",
    "\n",
    "    if i+16>len(hrlist):\n",
    "      if currenthour+16>=len(hrlist):\n",
    "        allpos.append([currentstart,currentend])\n",
    "        return (allpos)\n",
    "      elif currenthour+16<len(hrlist):\n",
    "        allpos.append([hrlist.index(hrlist[-17]),hrlist.index(hrlist[-1])])\n",
    "        return (allpos)\n",
    "      else:\n",
    "        return (allpos)\n",
    "\n",
    "    while currentstatus==True:\n",
    "      if currenthour<=16:\n",
    "        currenthour+=1\n",
    "        i+=1\n",
    "      elif currenthour>16 and hrlist[i]>=0:\n",
    "        currenthour+=1\n",
    "        i+=1\n",
    "      elif currenthour>16 and hrlist[i]<0:\n",
    "        currentend=i-1\n",
    "        currentstatus=False\n",
    "    allpos.append([currentstart,currentend])\n",
    "    currenthour=0\n",
    "  return (allpos)"
   ]
  },
  {
   "cell_type": "code",
   "execution_count": 81,
   "metadata": {
    "id": "IijBuRJrgHXO"
   },
   "outputs": [],
   "source": [
    "allpos=allpositive(hrlist)"
   ]
  },
  {
   "cell_type": "markdown",
   "metadata": {
    "id": "0JgJJ2Cj0fBW"
   },
   "source": [
    "## escape heavier losses to gain greater profit"
   ]
  },
  {
   "cell_type": "code",
   "execution_count": 82,
   "metadata": {
    "id": "etbjUHjQ0CiL"
   },
   "outputs": [],
   "source": [
    "def ver3(allpos,hrlist):\n",
    "  lastend=0 #上次关闭时间，主要不希望在调试的时候 头撞上上一次的尾\n",
    "  startup=0\n",
    "  headroomtotal=0 \n",
    "  upgratedlist=[]\n",
    "  proflist=[]\n",
    "  allist=[]\n",
    "  for i in range(len(allpos)):\n",
    "    currentstart=allpos[i][0]\n",
    "    currentend=allpos[i][1]\n",
    "  \n",
    "    while currentstart>lastend+2 and hrlist[currentstart-1]>hrlist[currentend]: #如果头没有撞上上一次的尾，而且有往前挪的可能，那就往前挪一小时\n",
    "      currentstart-=1\n",
    "      currentend-=1\n",
    "    if currentstart==lastend+2 and hrlist[currentstart-1]>hrlist[currentend]:   #如果头即将撞上上一次的尾list[6],list[8]中间就差7\n",
    "      currentstart-=1                                                            #而且还是赚的那么我们可以省去一次开启费，然后还可以把吊车尾给丢掉（因为已经满足16小时了）\n",
    "      currentend-=1\n",
    "      upgratedend=currentend\n",
    "      while hrlist[upgratedend]<0:                                               \n",
    "          upgratedend-=1 \n",
    "      if (sum(hrlist[upgratedlist[-1][0]:upgratedlist[-1][1]])*200)>10000 and (sum(hrlist[currentstart:upgratedend])*200)>0:\n",
    "        upgratedlist[-1]=[upgratedlist[-1][0],upgratedend]\n",
    "      elif (sum(hrlist[upgratedlist[-1][0]:upgratedlist[-1][1]])*200)>0 and (sum(hrlist[currentstart:upgratedend])*200)>10000:\n",
    "        upgratedlist[-1]=[upgratedlist[-1][0],upgratedend]\n",
    "      else:\n",
    "        upgratedlist.append([currentstart,currentend])\n",
    "     \n",
    "      lastend=currentend\n",
    "      continue                                                   \n",
    "    \n",
    "    upgratedlist.append([currentstart,currentend])\n",
    "    lastend=currentend\n",
    "  \n",
    "  for j in upgratedlist:\n",
    "    if (sum(hrlist[j[0]:j[1]])*200)>10000: #We know that the last open lastted 16hr, so there is no extra modify needed for the allpos[-1]\n",
    "        headroomtotal+=(sum(hrlist[j[0]:j[1]])*200)-10000  \n",
    "        proflist.append((sum(hrlist[j[0]:j[1]])*200))\n",
    "    allist.append((sum(hrlist[j[0]:j[1]])*200))\n",
    "  return (headroomtotal,upgratedlist,proflist,allist)"
   ]
  },
  {
   "cell_type": "code",
   "execution_count": 83,
   "metadata": {
    "colab": {
     "base_uri": "https://localhost:8080/"
    },
    "id": "o0_4Cxz3g9uq",
    "outputId": "67e38e21-70d3-40fc-83c5-2a8403a8d270"
   },
   "outputs": [
    {
     "data": {
      "text/plain": [
       "(12325733.675999995, 385102.9141999949)"
      ]
     },
     "execution_count": 83,
     "metadata": {
      "tags": []
     },
     "output_type": "execute_result"
    }
   ],
   "source": [
    "final,upgratedlist,p,alli=ver3(allpos,hrlist)\n",
    "final,final-a"
   ]
  },
  {
   "cell_type": "code",
   "execution_count": 84,
   "metadata": {
    "colab": {
     "base_uri": "https://localhost:8080/",
     "height": 293
    },
    "id": "cOcJHKri29GB",
    "outputId": "b83dddb2-b033-4b01-9123-5d4f6964df62"
   },
   "outputs": [
    {
     "data": {
      "text/plain": [
       "[<matplotlib.lines.Line2D at 0x7f480dcfec10>]"
      ]
     },
     "execution_count": 84,
     "metadata": {
      "tags": []
     },
     "output_type": "execute_result"
    },
    {
     "data": {
      "image/png": "[encoded data removed]",
      "text/plain": [
       "<Figure size 432x288 with 1 Axes>"
      ]
     },
     "metadata": {
      "needs_background": "light",
      "tags": []
     },
     "output_type": "display_data"
    }
   ],
   "source": [
    "plt.plot(p)"
   ]
  },
  {
   "cell_type": "code",
   "execution_count": 85,
   "metadata": {
    "colab": {
     "base_uri": "https://localhost:8080/",
     "height": 293
    },
    "id": "OqsOaYLj2_AU",
    "outputId": "c4eed78c-bd5d-413e-8305-2ac48fac3c5b"
   },
   "outputs": [
    {
     "data": {
      "text/plain": [
       "[<matplotlib.lines.Line2D at 0x7f480da69790>]"
      ]
     },
     "execution_count": 85,
     "metadata": {
      "tags": []
     },
     "output_type": "execute_result"
    },
    {
     "data": {
      "image/png": "[encoded data removed]",
      "text/plain": [
       "<Figure size 432x288 with 1 Axes>"
      ]
     },
     "metadata": {
      "needs_background": "light",
      "tags": []
     },
     "output_type": "display_data"
    }
   ],
   "source": [
    "plt.plot(alli)"
   ]
  },
  {
   "cell_type": "code",
   "execution_count": 58,
   "metadata": {
    "colab": {
     "base_uri": "https://localhost:8080/"
    },
    "id": "prgAyZ8eAELg",
    "outputId": "b178134f-c009-4e39-c3c7-a9b4dcc9f4cb"
   },
   "outputs": [
    {
     "data": {
      "text/plain": [
       "866"
      ]
     },
     "execution_count": 58,
     "metadata": {
      "tags": []
     },
     "output_type": "execute_result"
    }
   ],
   "source": [
    "len(upgratedlist)"
   ]
  },
  {
   "cell_type": "code",
   "execution_count": null,
   "metadata": {
    "id": "o_pl3Eji_rNs"
   },
   "outputs": [],
   "source": [
    "def ver3(allpos,hrlist):\n",
    "  lastend=0 #上次关闭时间，主要不希望在调试的时候 头撞上上一次的尾\n",
    "  startup=0 #开启次数\n",
    "  headroomtotal=0 #总价格\n",
    "  upgratedlist=[] #更新后的时间间段,满足下好奇心\n",
    "  for i in range(len(allpos)):\n",
    "    currentstart=allpos[i][0]\n",
    "    currentend=allpos[i][1]\n",
    "  \n",
    "    while currentstart>lastend+1 and hrlist[currentstart-1]>hrlist[currentend]: #如果头没有撞上上一次的尾，而且有往前挪的可能，那就往前挪一小时\n",
    "      currentstart-=1\n",
    "      currentend-=1\n",
    "                                                      \n",
    "    upgratedlist.append([currentstart,currentend])\n",
    "    lastend=currentend\n",
    "  \n",
    "  for j in upgratedlist:\n",
    "    if (sum(hrlist[j[0]:j[1]])*200)>10000: #We know that the last open lastted 16hr, so there is no extra modify needed for the allpos[-1]\n",
    "        startup+=1\n",
    "        headroomtotal+=(sum(hrlist[j[0]:j[1]])*200)\n",
    "  return (headroomtotal-startup*10000,upgratedlist)"
   ]
  },
  {
   "cell_type": "code",
   "execution_count": null,
   "metadata": {
    "colab": {
     "base_uri": "https://localhost:8080/"
    },
    "id": "RPeUj2j1_y2l",
    "outputId": "33e3b61e-58e6-4f57-8aeb-b061ee404085"
   },
   "outputs": [
    {
     "data": {
      "text/plain": [
       "(12324307.028999995, 383676.267199995)"
      ]
     },
     "execution_count": 33,
     "metadata": {
      "tags": []
     },
     "output_type": "execute_result"
    }
   ],
   "source": [
    "final,upgratedlist=ver3(allpos,hrlist)\n",
    "final,final-openorclose(hrlist)"
   ]
  },
  {
   "cell_type": "markdown",
   "metadata": {
    "id": "JSYXKfM9q_wv"
   },
   "source": [
    "#By doing this, we increase the profit by 385.74k to 12.33mil."
   ]
  }
 ],
 "metadata": {
  "colab": {
   "collapsed_sections": [],
   "name": "Project3 Lin&Zhu.ipynb",
   "provenance": []
  },
  "kernelspec": {
   "display_name": "Python 3",
   "language": "python",
   "name": "python3"
  },
  "language_info": {
   "codemirror_mode": {
    "name": "ipython",
    "version": 3
   },
   "file_extension": ".py",
   "mimetype": "text/x-python",
   "name": "python",
   "nbconvert_exporter": "python",
   "pygments_lexer": "ipython3",
   "version": "3.8.3"
  }
 },
 "nbformat": 4,
 "nbformat_minor": 1
}
